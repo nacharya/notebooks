{
 "cells": [
  {
   "cell_type": "markdown",
   "metadata": {
    "collapsed": true
   },
   "source": [
    "# Image Classification\n",
    "In this project, you'll classify images from the [CIFAR-10 dataset](https://www.cs.toronto.edu/~kriz/cifar.html).  The dataset consists of airplanes, dogs, cats, and other objects. You'll preprocess the images, then train a convolutional neural network on all the samples. The images need to be normalized and the labels need to be one-hot encoded.  You'll get to apply what you learned and build a convolutional, max pooling, dropout, and fully connected layers.  At the end, you'll get to see your neural network's predictions on the sample images.\n",
    "## Get the Data\n",
    "Run the following cell to download the [CIFAR-10 dataset for python](https://www.cs.toronto.edu/~kriz/cifar-10-python.tar.gz)."
   ]
  },
  {
   "cell_type": "code",
   "execution_count": 1,
   "metadata": {},
   "outputs": [
    {
     "name": "stdout",
     "output_type": "stream",
     "text": [
      "All files found!\n"
     ]
    }
   ],
   "source": [
    "\"\"\"\n",
    "DON'T MODIFY ANYTHING IN THIS CELL THAT IS BELOW THIS LINE\n",
    "\"\"\"\n",
    "from urllib.request import urlretrieve\n",
    "from os.path import isfile, isdir\n",
    "from tqdm import tqdm\n",
    "import problem_unittests as tests\n",
    "import tarfile\n",
    "\n",
    "cifar10_dataset_folder_path = 'cifar-10-batches-py'\n",
    "\n",
    "class DLProgress(tqdm):\n",
    "    last_block = 0\n",
    "\n",
    "    def hook(self, block_num=1, block_size=1, total_size=None):\n",
    "        self.total = total_size\n",
    "        self.update((block_num - self.last_block) * block_size)\n",
    "        self.last_block = block_num\n",
    "\n",
    "if not isfile('cifar-10-python.tar.gz'):\n",
    "    with DLProgress(unit='B', unit_scale=True, miniters=1, desc='CIFAR-10 Dataset') as pbar:\n",
    "        urlretrieve(\n",
    "            'https://www.cs.toronto.edu/~kriz/cifar-10-python.tar.gz',\n",
    "            'cifar-10-python.tar.gz',\n",
    "            pbar.hook)\n",
    "\n",
    "if not isdir(cifar10_dataset_folder_path):\n",
    "    with tarfile.open('cifar-10-python.tar.gz') as tar:\n",
    "        tar.extractall()\n",
    "        tar.close()\n",
    "\n",
    "\n",
    "tests.test_folder_path(cifar10_dataset_folder_path)"
   ]
  },
  {
   "cell_type": "markdown",
   "metadata": {},
   "source": [
    "## Explore the Data\n",
    "The dataset is broken into batches to prevent your machine from running out of memory.  The CIFAR-10 dataset consists of 5 batches, named `data_batch_1`, `data_batch_2`, etc.. Each batch contains the labels and images that are one of the following:\n",
    "* airplane\n",
    "* automobile\n",
    "* bird\n",
    "* cat\n",
    "* deer\n",
    "* dog\n",
    "* frog\n",
    "* horse\n",
    "* ship\n",
    "* truck\n",
    "\n",
    "Understanding a dataset is part of making predictions on the data.  Play around with the code cell below by changing the `batch_id` and `sample_id`. The `batch_id` is the id for a batch (1-5). The `sample_id` is the id for a image and label pair in the batch.\n",
    "\n",
    "Ask yourself \"What are all possible labels?\", \"What is the range of values for the image data?\", \"Are the labels in order or random?\".  Answers to questions like these will help you preprocess the data and end up with better predictions."
   ]
  },
  {
   "cell_type": "code",
   "execution_count": 2,
   "metadata": {},
   "outputs": [
    {
     "name": "stdout",
     "output_type": "stream",
     "text": [
      "\n",
      "Stats of batch 3:\n",
      "Samples: 10000\n",
      "Label Counts: {0: 994, 1: 1042, 2: 965, 3: 997, 4: 990, 5: 1029, 6: 978, 7: 1015, 8: 961, 9: 1029}\n",
      "First 20 Labels: [8, 5, 0, 6, 9, 2, 8, 3, 6, 2, 7, 4, 6, 9, 0, 0, 7, 3, 7, 2]\n",
      "\n",
      "Example of Image 15:\n",
      "Image - Min Value: 59 Max Value: 210\n",
      "Image - Shape: (32, 32, 3)\n",
      "Label - Label Id: 0 Name: airplane\n"
     ]
    },
    {
     "data": {
      "image/png": "[encoded data removed]",
      "text/plain": [
       "<matplotlib.figure.Figure at 0x11cca6cc0>"
      ]
     },
     "metadata": {
      "image/png": {
       "height": 250,
       "width": 253
      }
     },
     "output_type": "display_data"
    }
   ],
   "source": [
    "%matplotlib inline\n",
    "%config InlineBackend.figure_format = 'retina'\n",
    "\n",
    "import helper\n",
    "import numpy as np\n",
    "\n",
    "# Explore the dataset\n",
    "batch_id = 3\n",
    "sample_id = 15\n",
    "helper.display_stats(cifar10_dataset_folder_path, batch_id, sample_id)"
   ]
  },
  {
   "cell_type": "markdown",
   "metadata": {},
   "source": [
    "## Implement Preprocess Functions\n",
    "### Normalize\n",
    "In the cell below, implement the `normalize` function to take in image data, `x`, and return it as a normalized Numpy array. The values should be in the range of 0 to 1, inclusive.  The return object should be the same shape as `x`."
   ]
  },
  {
   "cell_type": "code",
   "execution_count": 3,
   "metadata": {},
   "outputs": [
    {
     "name": "stdout",
     "output_type": "stream",
     "text": [
      "Tests Passed\n"
     ]
    }
   ],
   "source": [
    "def normalize(x):\n",
    "    \"\"\"\n",
    "    Normalize a list of sample image data in the range of 0 to 1\n",
    "    : x: List of image data.  The image shape is (32, 32, 3)\n",
    "    : return: Numpy array of normalize data\n",
    "    \"\"\"\n",
    "    # DONE: Implement Function\n",
    "    return np.array(x / 255)\n",
    "\n",
    "\n",
    "\"\"\"\n",
    "DON'T MODIFY ANYTHING IN THIS CELL THAT IS BELOW THIS LINE\n",
    "\"\"\"\n",
    "tests.test_normalize(normalize)"
   ]
  },
  {
   "cell_type": "markdown",
   "metadata": {},
   "source": [
    "### One-hot encode\n",
    "Just like the previous code cell, you'll be implementing a function for preprocessing.  This time, you'll implement the `one_hot_encode` function. The input, `x`, are a list of labels.  Implement the function to return the list of labels as One-Hot encoded Numpy array.  The possible values for labels are 0 to 9. The one-hot encoding function should return the same encoding for each value between each call to `one_hot_encode`.  Make sure to save the map of encodings outside the function.\n",
    "\n",
    "Hint: Don't reinvent the wheel."
   ]
  },
  {
   "cell_type": "code",
   "execution_count": 4,
   "metadata": {},
   "outputs": [
    {
     "name": "stdout",
     "output_type": "stream",
     "text": [
      "Tests Passed\n"
     ]
    }
   ],
   "source": [
    "def one_hot_encode(x):\n",
    "    \"\"\"\n",
    "    One hot encode a list of sample labels. Return a one-hot encoded vector for each label.\n",
    "    : x: List of sample Labels\n",
    "    : return: Numpy array of one-hot encoded labels\n",
    "    \"\"\"\n",
    "    # DONE: Implement Function\n",
    "    return np.eye(10)[x]\n",
    "\n",
    "\n",
    "\"\"\"\n",
    "DON'T MODIFY ANYTHING IN THIS CELL THAT IS BELOW THIS LINE\n",
    "\"\"\"\n",
    "tests.test_one_hot_encode(one_hot_encode)"
   ]
  },
  {
   "cell_type": "markdown",
   "metadata": {},
   "source": [
    "### Randomize Data\n",
    "As you saw from exploring the data above, the order of the samples are randomized.  It doesn't hurt to randomize it again, but you don't need to for this dataset."
   ]
  },
  {
   "cell_type": "markdown",
   "metadata": {},
   "source": [
    "## Preprocess all the data and save it\n",
    "Running the code cell below will preprocess all the CIFAR-10 data and save it to file. The code below also uses 10% of the training data for validation."
   ]
  },
  {
   "cell_type": "code",
   "execution_count": 5,
   "metadata": {
    "collapsed": true
   },
   "outputs": [],
   "source": [
    "\"\"\"\n",
    "DON'T MODIFY ANYTHING IN THIS CELL\n",
    "\"\"\"\n",
    "# Preprocess Training, Validation, and Testing Data\n",
    "helper.preprocess_and_save_data(cifar10_dataset_folder_path, normalize, one_hot_encode)"
   ]
  },
  {
   "cell_type": "markdown",
   "metadata": {},
   "source": [
    "# Check Point\n",
    "This is your first checkpoint.  If you ever decide to come back to this notebook or have to restart the notebook, you can start from here.  The preprocessed data has been saved to disk."
   ]
  },
  {
   "cell_type": "code",
   "execution_count": 6,
   "metadata": {
    "collapsed": true
   },
   "outputs": [],
   "source": [
    "\"\"\"\n",
    "DON'T MODIFY ANYTHING IN THIS CELL\n",
    "\"\"\"\n",
    "import pickle\n",
    "import problem_unittests as tests\n",
    "import helper\n",
    "\n",
    "# Load the Preprocessed Validation data\n",
    "valid_features, valid_labels = pickle.load(open('preprocess_validation.p', mode='rb'))"
   ]
  },
  {
   "cell_type": "markdown",
   "metadata": {},
   "source": [
    "## Build the network\n",
    "For the neural network, you'll build each layer into a function.  Most of the code you've seen has been outside of functions. To test your code more thoroughly, we require that you put each layer in a function.  This allows us to give you better feedback and test for simple mistakes using our unittests before you submit your project.\n",
    "\n",
    ">**Note:** If you're finding it hard to dedicate enough time for this course each week, we've provided a small shortcut to this part of the project. In the next couple of problems, you'll have the option to use classes from the [TensorFlow Layers](https://www.tensorflow.org/api_docs/python/tf/layers) or [TensorFlow Layers (contrib)](https://www.tensorflow.org/api_guides/python/contrib.layers) packages to build each layer, except the layers you build in the \"Convolutional and Max Pooling Layer\" section.  TF Layers is similar to Keras's and TFLearn's abstraction to layers, so it's easy to pickup.\n",
    "\n",
    ">However, if you would like to get the most out of this course, try to solve all the problems _without_ using anything from the TF Layers packages. You **can** still use classes from other packages that happen to have the same name as ones you find in TF Layers! For example, instead of using the TF Layers version of the `conv2d` class, [tf.layers.conv2d](https://www.tensorflow.org/api_docs/python/tf/layers/conv2d), you would want to use the TF Neural Network version of `conv2d`, [tf.nn.conv2d](https://www.tensorflow.org/api_docs/python/tf/nn/conv2d). \n",
    "\n",
    "Let's begin!\n",
    "\n",
    "### Input\n",
    "The neural network needs to read the image data, one-hot encoded labels, and dropout keep probability. Implement the following functions\n",
    "* Implement `neural_net_image_input`\n",
    " * Return a [TF Placeholder](https://www.tensorflow.org/api_docs/python/tf/placeholder)\n",
    " * Set the shape using `image_shape` with batch size set to `None`.\n",
    " * Name the TensorFlow placeholder \"x\" using the TensorFlow `name` parameter in the [TF Placeholder](https://www.tensorflow.org/api_docs/python/tf/placeholder).\n",
    "* Implement `neural_net_label_input`\n",
    " * Return a [TF Placeholder](https://www.tensorflow.org/api_docs/python/tf/placeholder)\n",
    " * Set the shape using `n_classes` with batch size set to `None`.\n",
    " * Name the TensorFlow placeholder \"y\" using the TensorFlow `name` parameter in the [TF Placeholder](https://www.tensorflow.org/api_docs/python/tf/placeholder).\n",
    "* Implement `neural_net_keep_prob_input`\n",
    " * Return a [TF Placeholder](https://www.tensorflow.org/api_docs/python/tf/placeholder) for dropout keep probability.\n",
    " * Name the TensorFlow placeholder \"keep_prob\" using the TensorFlow `name` parameter in the [TF Placeholder](https://www.tensorflow.org/api_docs/python/tf/placeholder).\n",
    "\n",
    "These names will be used at the end of the project to load your saved model.\n",
    "\n",
    "Note: `None` for shapes in TensorFlow allow for a dynamic size."
   ]
  },
  {
   "cell_type": "code",
   "execution_count": 7,
   "metadata": {},
   "outputs": [
    {
     "name": "stdout",
     "output_type": "stream",
     "text": [
      "Image Input Tests Passed.\n",
      "Label Input Tests Passed.\n",
      "Keep Prob Tests Passed.\n"
     ]
    }
   ],
   "source": [
    "import tensorflow as tf\n",
    "\n",
    "def neural_net_image_input(image_shape):\n",
    "    \"\"\"\n",
    "    Return a Tensor for a bach of image input\n",
    "    : image_shape: Shape of the images\n",
    "    : return: Tensor for image input.\n",
    "    \"\"\"\n",
    "    # DONE: Implement Function\n",
    "    return tf.placeholder(tf.float32, shape=(None, image_shape[0], image_shape[1], image_shape[2]), name='x')\n",
    "\n",
    "\n",
    "def neural_net_label_input(n_classes):\n",
    "    \"\"\"\n",
    "    Return a Tensor for a batch of label input\n",
    "    : n_classes: Number of classes\n",
    "    : return: Tensor for label input.\n",
    "    \"\"\"\n",
    "    # DONE: Implement Function\n",
    "    return tf.placeholder(tf.float32, shape=(None, n_classes), name='y')\n",
    "\n",
    "\n",
    "def neural_net_keep_prob_input():\n",
    "    \"\"\"\n",
    "    Return a Tensor for keep probability\n",
    "    : return: Tensor for keep probability.\n",
    "    \"\"\"\n",
    "    # DONE: Implement Function\n",
    "    return tf.placeholder(tf.float32, name='keep_prob')\n",
    "\n",
    "\n",
    "\"\"\"\n",
    "DON'T MODIFY ANYTHING IN THIS CELL THAT IS BELOW THIS LINE\n",
    "\"\"\"\n",
    "tf.reset_default_graph()\n",
    "tests.test_nn_image_inputs(neural_net_image_input)\n",
    "tests.test_nn_label_inputs(neural_net_label_input)\n",
    "tests.test_nn_keep_prob_inputs(neural_net_keep_prob_input)"
   ]
  },
  {
   "cell_type": "markdown",
   "metadata": {},
   "source": [
    "### Convolution and Max Pooling Layer\n",
    "Convolution layers have a lot of success with images. For this code cell, you should implement the function `conv2d_maxpool` to apply convolution then max pooling:\n",
    "* Create the weight and bias using `conv_ksize`, `conv_num_outputs` and the shape of `x_tensor`.\n",
    "* Apply a convolution to `x_tensor` using weight and `conv_strides`.\n",
    " * We recommend you use same padding, but you're welcome to use any padding.\n",
    "* Add bias\n",
    "* Add a nonlinear activation to the convolution.\n",
    "* Apply Max Pooling using `pool_ksize` and `pool_strides`.\n",
    " * We recommend you use same padding, but you're welcome to use any padding.\n",
    "\n",
    "**Note:** You **can't** use [TensorFlow Layers](https://www.tensorflow.org/api_docs/python/tf/layers) or [TensorFlow Layers (contrib)](https://www.tensorflow.org/api_guides/python/contrib.layers) for **this** layer, but you can still use TensorFlow's [Neural Network](https://www.tensorflow.org/api_docs/python/tf/nn) package. You may still use the shortcut option for all the **other** layers."
   ]
  },
  {
   "cell_type": "code",
   "execution_count": 8,
   "metadata": {},
   "outputs": [
    {
     "name": "stdout",
     "output_type": "stream",
     "text": [
      "Tests Passed\n"
     ]
    }
   ],
   "source": [
    "def conv2d_maxpool(x_tensor, conv_num_outputs, conv_ksize, conv_strides, pool_ksize, pool_strides):\n",
    "    \"\"\"\n",
    "    Apply convolution then max pooling to x_tensor\n",
    "    :param x_tensor: TensorFlow Tensor\n",
    "    :param conv_num_outputs: Number of outputs for the convolutional layer\n",
    "    :param conv_ksize: kernal size 2-D Tuple for the convolutional layer\n",
    "    :param conv_strides: Stride 2-D Tuple for convolution\n",
    "    :param pool_ksize: kernal size 2-D Tuple for pool\n",
    "    :param pool_strides: Stride 2-D Tuple for pool\n",
    "    : return: A tensor that represents convolution and max pooling of x_tensor\n",
    "    \"\"\"\n",
    "    # DONE: Implement Function\n",
    "\n",
    "    cl_ksize = [1, conv_ksize[0], conv_ksize[1], 1]\n",
    "    cl_num_inputs = x_tensor.get_shape().as_list()[3]\n",
    "    cl_wt = [cl_ksize[0], cl_ksize[1], cl_num_inputs, conv_num_outputs]\n",
    "    cl_weight = tf.Variable(tf.truncated_normal(cl_wt, stddev=0.1))\n",
    "    cl_bias = tf.Variable(tf.zeros(conv_num_outputs))\n",
    "    \n",
    "    strides = [1, conv_strides[0],conv_strides[1],1]\n",
    "    \n",
    "    conv = tf.nn.conv2d(x_tensor, cl_weight, strides=strides,padding='SAME')\n",
    "    conv = tf.nn.bias_add(conv, cl_bias)\n",
    "    #conv = tf.nn.relu(conv)\n",
    "    \n",
    "    pool_ksize = [1, pool_ksize[0], pool_ksize[1], 1]\n",
    "    pool_strides = [1, pool_strides[0], pool_strides[1], 1]\n",
    "    max_pooling_cl = tf.nn.max_pool(conv, ksize=pool_ksize,strides=pool_strides,padding='SAME')\n",
    "    max_pooling_cl = tf.nn.relu(max_pooling_cl)\n",
    "    return max_pooling_cl\n",
    "\n",
    "\"\"\"\n",
    "DON'T MODIFY ANYTHING IN THIS CELL THAT IS BELOW THIS LINE\n",
    "\"\"\"\n",
    "tests.test_con_pool(conv2d_maxpool)"
   ]
  },
  {
   "cell_type": "markdown",
   "metadata": {},
   "source": [
    "### Flatten Layer\n",
    "Implement the `flatten` function to change the dimension of `x_tensor` from a 4-D tensor to a 2-D tensor.  The output should be the shape (*Batch Size*, *Flattened Image Size*). Shortcut option: you can use classes from the [TensorFlow Layers](https://www.tensorflow.org/api_docs/python/tf/layers) or [TensorFlow Layers (contrib)](https://www.tensorflow.org/api_guides/python/contrib.layers) packages for this layer. For more of a challenge, only use other TensorFlow packages."
   ]
  },
  {
   "cell_type": "code",
   "execution_count": 9,
   "metadata": {},
   "outputs": [
    {
     "name": "stdout",
     "output_type": "stream",
     "text": [
      "Tests Passed\n"
     ]
    }
   ],
   "source": [
    "def flatten(x_tensor):\n",
    "    \"\"\"\n",
    "    Flatten x_tensor to (Batch Size, Flattened Image Size)\n",
    "    : x_tensor: A tensor of size (Batch Size, ...), where ... are the image dimensions.\n",
    "    : return: A tensor of size (Batch Size, Flattened Image Size).\n",
    "    \"\"\"\n",
    "    # DONE: Implement Function\n",
    "    tn_flat = tf.contrib.layers.flatten(x_tensor)\n",
    "    return tn_flat\n",
    "\n",
    "\n",
    "\"\"\"\n",
    "DON'T MODIFY ANYTHING IN THIS CELL THAT IS BELOW THIS LINE\n",
    "\"\"\"\n",
    "tests.test_flatten(flatten)"
   ]
  },
  {
   "cell_type": "markdown",
   "metadata": {},
   "source": [
    "### Fully-Connected Layer\n",
    "Implement the `fully_conn` function to apply a fully connected layer to `x_tensor` with the shape (*Batch Size*, *num_outputs*). Shortcut option: you can use classes from the [TensorFlow Layers](https://www.tensorflow.org/api_docs/python/tf/layers) or [TensorFlow Layers (contrib)](https://www.tensorflow.org/api_guides/python/contrib.layers) packages for this layer. For more of a challenge, only use other TensorFlow packages."
   ]
  },
  {
   "cell_type": "code",
   "execution_count": 10,
   "metadata": {},
   "outputs": [
    {
     "name": "stdout",
     "output_type": "stream",
     "text": [
      "Tests Passed\n"
     ]
    }
   ],
   "source": [
    "def fc_way(x_tensor, num_outputs):\n",
    "    width = x_tensor.get_shape().as_list()[1]\n",
    "    weight = tf.Variable(tf.truncated_normal(([width, num_outputs]), stddev=0.1))\n",
    "    bias = tf.Variable(tf.zeros(num_outputs))\n",
    "    output = tf.add(tf.matmul(x_tensor, weight), bias)\n",
    "    ret = tf.nn.relu(output)\n",
    "    return ret\n",
    "\n",
    "def fully_conn(x_tensor, num_outputs):\n",
    "    \"\"\"\n",
    "    Apply a fully connected layer to x_tensor using weight and bias\n",
    "    : x_tensor: A 2-D tensor where the first dimension is batch size.\n",
    "    : num_outputs: The number of output that the new tensor should be.\n",
    "    : return: A 2-D tensor where the second dimension is num_outputs.\n",
    "    \"\"\"\n",
    "    # DONE: Implement Function\n",
    "    fc = fc_way(x_tensor, num_outputs)\n",
    "    return fc\n",
    "\n",
    "\n",
    "\"\"\"\n",
    "DON'T MODIFY ANYTHING IN THIS CELL THAT IS BELOW THIS LINE\n",
    "\"\"\"\n",
    "tests.test_fully_conn(fully_conn)"
   ]
  },
  {
   "cell_type": "markdown",
   "metadata": {},
   "source": [
    "### Output Layer\n",
    "Implement the `output` function to apply a fully connected layer to `x_tensor` with the shape (*Batch Size*, *num_outputs*). Shortcut option: you can use classes from the [TensorFlow Layers](https://www.tensorflow.org/api_docs/python/tf/layers) or [TensorFlow Layers (contrib)](https://www.tensorflow.org/api_guides/python/contrib.layers) packages for this layer. For more of a challenge, only use other TensorFlow packages.\n",
    "\n",
    "**Note:** Activation, softmax, or cross entropy should **not** be applied to this."
   ]
  },
  {
   "cell_type": "code",
   "execution_count": 24,
   "metadata": {},
   "outputs": [
    {
     "name": "stdout",
     "output_type": "stream",
     "text": [
      "Tensor(\"dense_4/BiasAdd:0\", shape=(?, 40), dtype=float32)\n",
      "Tensor(\"BiasAdd_9:0\", shape=(?, 40), dtype=float32)\n",
      "Tests Passed\n"
     ]
    }
   ],
   "source": [
    "def output(x_tensor, num_outputs):\n",
    "    \"\"\"\n",
    "    Apply a output layer to x_tensor using weight and bias\n",
    "    : x_tensor: A 2-D tensor where the first dimension is batch size.\n",
    "    : num_outputs: The number of output that the new tensor should be.\n",
    "    : return: A 2-D tensor where the second dimension is num_outputs.\n",
    "    \"\"\"\n",
    "    # DONE: Implement Function\n",
    "    #fc = fc_way(x_tensor, num_outputs)\n",
    "    wid= x_tensor.get_shape().as_list()[-1]\n",
    "    wghts = tf.Variable(tf.random_normal([wid, num_outputs], stddev=0.1))\n",
    "    bias = tf.Variable(tf.zeros([num_outputs]))\n",
    "    linear = tf.nn.bias_add(tf.matmul(x_tensor, wghts), bias)\n",
    "    logits = tf.layers.dense(linear, units=num_outputs)\n",
    "    fc = logits\n",
    "    return fc\n",
    "\n",
    "\"\"\"\n",
    "DON'T MODIFY ANYTHING IN THIS CELL THAT IS BELOW THIS LINE\n",
    "\"\"\"\n",
    "tests.test_output(output)"
   ]
  },
  {
   "cell_type": "markdown",
   "metadata": {},
   "source": [
    "### Create Convolutional Model\n",
    "Implement the function `conv_net` to create a convolutional neural network model. The function takes in a batch of images, `x`, and outputs logits.  Use the layers you created above to create this model:\n",
    "\n",
    "* Apply 1, 2, or 3 Convolution and Max Pool layers\n",
    "* Apply a Flatten Layer\n",
    "* Apply 1, 2, or 3 Fully Connected Layers\n",
    "* Apply an Output Layer\n",
    "* Return the output\n",
    "* Apply [TensorFlow's Dropout](https://www.tensorflow.org/api_docs/python/tf/nn/dropout) to one or more layers in the model using `keep_prob`. "
   ]
  },
  {
   "cell_type": "code",
   "execution_count": 25,
   "metadata": {},
   "outputs": [
    {
     "name": "stdout",
     "output_type": "stream",
     "text": [
      "Tensor(\"dense/BiasAdd:0\", shape=(?, 10), dtype=float32)\n",
      "Tensor(\"BiasAdd_3:0\", shape=(?, 10), dtype=float32)\n",
      "Tensor(\"dense_2/BiasAdd:0\", shape=(?, 10), dtype=float32)\n",
      "Tensor(\"BiasAdd_7:0\", shape=(?, 10), dtype=float32)\n",
      "Neural Network Built!\n"
     ]
    }
   ],
   "source": [
    "def conv_net(x, keep_prob):\n",
    "    \"\"\"\n",
    "    Create a convolutional neural network model\n",
    "    : x: Placeholder tensor that holds image data.\n",
    "    : keep_prob: Placeholder tensor that hold dropout keep probability.\n",
    "    : return: Tensor that represents logits\n",
    "    \"\"\"\n",
    "    # DONE: Apply 1, 2, or 3 Convolution and Max Pool layers\n",
    "    #    Play around with different number of outputs, kernel size and stride\n",
    "    # Function Definition from Above:\n",
    "    #    conv2d_maxpool(x_tensor, conv_num_outputs, conv_ksize, conv_strides, pool_ksize, pool_strides)\n",
    "    \n",
    "    conv_ksize = [3, 3]\n",
    "    conv_strides = [1, 1]\n",
    "    pool_ksize = [2, 2]\n",
    "    pool_strides = [2, 2]\n",
    "    \n",
    "    conv_num_outputs = 32\n",
    "    conv_l = conv2d_maxpool(x, conv_num_outputs, conv_ksize, conv_strides, pool_ksize, pool_strides)\n",
    "    conv_num_outputs = 64\n",
    "    conv_l = conv2d_maxpool(conv_l, conv_num_outputs, conv_ksize, conv_strides, pool_ksize, pool_strides)\n",
    "    conv_num_outputs = 128\n",
    "    conv_l = conv2d_maxpool(conv_l, conv_num_outputs, conv_ksize, conv_strides, pool_ksize, pool_strides)\n",
    "    \n",
    "    \n",
    "    # TODO: Apply a Flatten Layer\n",
    "    # Function Definition from Above:\n",
    "    #   flatten(x_tensor)\n",
    "    \n",
    "    flatten_l = flatten(conv_l)\n",
    "\n",
    "\n",
    "    # DONE: Apply 1, 2, or 3 Fully Connected Layers\n",
    "    #    Play around with different number of outputs\n",
    "    # Function Definition from Above:\n",
    "    #   fully_conn(x_tensor, num_outputs)\n",
    "    \n",
    "    fully_connected_l = fully_conn(flatten_l, 100)\n",
    "    fully_dropout_l = tf.nn.dropout(fully_connected_l, keep_prob) \n",
    "    fully_connected_l2 = fully_conn(fully_dropout_l, 100)\n",
    "\n",
    "    \n",
    "    # DONE: Apply an Output Layer\n",
    "    #    Set this to the number of classes\n",
    "    # Function Definition from Above:\n",
    "    #   output(x_tensor, num_outputs)\n",
    "    \n",
    "    output_layer = output(fully_connected_l2, 10)\n",
    "\n",
    "    \n",
    "    # DONE: return output\n",
    "    return output_layer\n",
    "\n",
    "\n",
    "\"\"\"\n",
    "DON'T MODIFY ANYTHING IN THIS CELL THAT IS BELOW THIS LINE\n",
    "\"\"\"\n",
    "\n",
    "##############################\n",
    "## Build the Neural Network ##\n",
    "##############################\n",
    "\n",
    "# Remove previous weights, bias, inputs, etc..\n",
    "tf.reset_default_graph()\n",
    "\n",
    "# Inputs\n",
    "x = neural_net_image_input((32, 32, 3))\n",
    "y = neural_net_label_input(10)\n",
    "keep_prob = neural_net_keep_prob_input()\n",
    "\n",
    "# Model\n",
    "logits = conv_net(x, keep_prob)\n",
    "\n",
    "# Name logits Tensor, so that is can be loaded from disk after training\n",
    "logits = tf.identity(logits, name='logits')\n",
    "\n",
    "# Loss and Optimizer\n",
    "cost = tf.reduce_mean(tf.nn.softmax_cross_entropy_with_logits(logits=logits, labels=y))\n",
    "optimizer = tf.train.AdamOptimizer().minimize(cost)\n",
    "\n",
    "# Accuracy\n",
    "correct_pred = tf.equal(tf.argmax(logits, 1), tf.argmax(y, 1))\n",
    "accuracy = tf.reduce_mean(tf.cast(correct_pred, tf.float32), name='accuracy')\n",
    "\n",
    "tests.test_conv_net(conv_net)"
   ]
  },
  {
   "cell_type": "markdown",
   "metadata": {},
   "source": [
    "## Train the Neural Network\n",
    "### Single Optimization\n",
    "Implement the function `train_neural_network` to do a single optimization.  The optimization should use `optimizer` to optimize in `session` with a `feed_dict` of the following:\n",
    "* `x` for image input\n",
    "* `y` for labels\n",
    "* `keep_prob` for keep probability for dropout\n",
    "\n",
    "This function will be called for each batch, so `tf.global_variables_initializer()` has already been called.\n",
    "\n",
    "Note: Nothing needs to be returned. This function is only optimizing the neural network."
   ]
  },
  {
   "cell_type": "code",
   "execution_count": 26,
   "metadata": {},
   "outputs": [
    {
     "name": "stdout",
     "output_type": "stream",
     "text": [
      "Tests Passed\n"
     ]
    }
   ],
   "source": [
    "def train_neural_network(session, optimizer, keep_probability, feature_batch, label_batch):\n",
    "    \"\"\"\n",
    "    Optimize the session on a batch of images and labels\n",
    "    : session: Current TensorFlow session\n",
    "    : optimizer: TensorFlow optimizer function\n",
    "    : keep_probability: keep probability\n",
    "    : feature_batch: Batch of Numpy image data\n",
    "    : label_batch: Batch of Numpy label data\n",
    "    \"\"\"\n",
    "    # DONE: Implement Function\n",
    "    session.run(optimizer, feed_dict={x: feature_batch, y:label_batch, keep_prob: keep_probability})\n",
    "\n",
    "\n",
    "\"\"\"\n",
    "DON'T MODIFY ANYTHING IN THIS CELL THAT IS BELOW THIS LINE\n",
    "\"\"\"\n",
    "tests.test_train_nn(train_neural_network)"
   ]
  },
  {
   "cell_type": "markdown",
   "metadata": {},
   "source": [
    "### Show Stats\n",
    "Implement the function `print_stats` to print loss and validation accuracy.  Use the global variables `valid_features` and `valid_labels` to calculate validation accuracy.  Use a keep probability of `1.0` to calculate the loss and validation accuracy."
   ]
  },
  {
   "cell_type": "code",
   "execution_count": 27,
   "metadata": {
    "collapsed": true
   },
   "outputs": [],
   "source": [
    "def print_stats(session, feature_batch, label_batch, cost, accuracy):\n",
    "    \"\"\"\n",
    "    Print information about loss and validation accuracy\n",
    "    : session: Current TensorFlow session\n",
    "    : feature_batch: Batch of Numpy image data\n",
    "    : label_batch: Batch of Numpy label data\n",
    "    : cost: TensorFlow cost function\n",
    "    : accuracy: TensorFlow accuracy function\n",
    "    \"\"\"\n",
    "    # DONE: Implement Function\n",
    "    loss = session.run(cost, feed_dict={x:feature_batch, y:label_batch, keep_prob: 1.0})\n",
    "    accuracy = session.run(accuracy, feed_dict={x: valid_features, y:valid_labels, keep_prob:1.0})\n",
    "    print(' Accuracy : {} '.format(accuracy))\n",
    "    print(' Loss : {} '.format(loss))"
   ]
  },
  {
   "cell_type": "markdown",
   "metadata": {},
   "source": [
    "### Hyperparameters\n",
    "Tune the following parameters:\n",
    "* Set `epochs` to the number of iterations until the network stops learning or start overfitting\n",
    "* Set `batch_size` to the highest number that your machine has memory for.  Most people set them to common sizes of memory:\n",
    " * 64\n",
    " * 128\n",
    " * 256\n",
    " * ...\n",
    "* Set `keep_probability` to the probability of keeping a node using dropout"
   ]
  },
  {
   "cell_type": "code",
   "execution_count": 28,
   "metadata": {
    "collapsed": true
   },
   "outputs": [],
   "source": [
    "# TODO: Tune Parameters\n",
    "epochs = 30\n",
    "batch_size = 256\n",
    "keep_probability = 0.9"
   ]
  },
  {
   "cell_type": "markdown",
   "metadata": {},
   "source": [
    "### Train on a Single CIFAR-10 Batch\n",
    "Instead of training the neural network on all the CIFAR-10 batches of data, let's use a single batch. This should save time while you iterate on the model to get a better accuracy.  Once the final validation accuracy is 50% or greater, run the model on all the data in the next section."
   ]
  },
  {
   "cell_type": "code",
   "execution_count": 29,
   "metadata": {},
   "outputs": [
    {
     "name": "stdout",
     "output_type": "stream",
     "text": [
      "Checking the Training on a Single Batch...\n",
      "Epoch  1, CIFAR-10 Batch 1:   Accuracy : 0.21459999680519104 \n",
      " Loss : 2.252814769744873 \n",
      "Epoch  2, CIFAR-10 Batch 1:   Accuracy : 0.2802000045776367 \n",
      " Loss : 2.124293327331543 \n",
      "Epoch  3, CIFAR-10 Batch 1:   Accuracy : 0.3312000036239624 \n",
      " Loss : 1.9441436529159546 \n",
      "Epoch  4, CIFAR-10 Batch 1:   Accuracy : 0.3797999918460846 \n",
      " Loss : 1.8044898509979248 \n",
      "Epoch  5, CIFAR-10 Batch 1:   Accuracy : 0.40860000252723694 \n",
      " Loss : 1.618560791015625 \n",
      "Epoch  6, CIFAR-10 Batch 1:   Accuracy : 0.44999998807907104 \n",
      " Loss : 1.4936511516571045 \n",
      "Epoch  7, CIFAR-10 Batch 1:   Accuracy : 0.4717999994754791 \n",
      " Loss : 1.3403608798980713 \n",
      "Epoch  8, CIFAR-10 Batch 1:   Accuracy : 0.4860000014305115 \n",
      " Loss : 1.2408186197280884 \n",
      "Epoch  9, CIFAR-10 Batch 1:   Accuracy : 0.49079999327659607 \n",
      " Loss : 1.1395891904830933 \n",
      "Epoch 10, CIFAR-10 Batch 1:   Accuracy : 0.49900001287460327 \n",
      " Loss : 1.0733354091644287 \n",
      "Epoch 11, CIFAR-10 Batch 1:   Accuracy : 0.5088000297546387 \n",
      " Loss : 0.9620605707168579 \n",
      "Epoch 12, CIFAR-10 Batch 1:   Accuracy : 0.5076000094413757 \n",
      " Loss : 0.9037207365036011 \n",
      "Epoch 13, CIFAR-10 Batch 1:   Accuracy : 0.5194000005722046 \n",
      " Loss : 0.840480625629425 \n",
      "Epoch 14, CIFAR-10 Batch 1:   Accuracy : 0.5267999768257141 \n",
      " Loss : 0.7837626934051514 \n",
      "Epoch 15, CIFAR-10 Batch 1:   Accuracy : 0.5293999910354614 \n",
      " Loss : 0.7431173324584961 \n",
      "Epoch 16, CIFAR-10 Batch 1:   Accuracy : 0.5325999855995178 \n",
      " Loss : 0.6941412091255188 \n",
      "Epoch 17, CIFAR-10 Batch 1:   Accuracy : 0.5397999882698059 \n",
      " Loss : 0.6409024000167847 \n",
      "Epoch 18, CIFAR-10 Batch 1:   Accuracy : 0.5365999937057495 \n",
      " Loss : 0.6300514936447144 \n",
      "Epoch 19, CIFAR-10 Batch 1:   Accuracy : 0.5392000079154968 \n",
      " Loss : 0.5578550696372986 \n",
      "Epoch 20, CIFAR-10 Batch 1:   Accuracy : 0.5397999882698059 \n",
      " Loss : 0.505643904209137 \n",
      "Epoch 21, CIFAR-10 Batch 1:   Accuracy : 0.5347999930381775 \n",
      " Loss : 0.47923555970191956 \n",
      "Epoch 22, CIFAR-10 Batch 1:   Accuracy : 0.5482000112533569 \n",
      " Loss : 0.4164709448814392 \n",
      "Epoch 23, CIFAR-10 Batch 1:   Accuracy : 0.5490000247955322 \n",
      " Loss : 0.38724061846733093 \n",
      "Epoch 24, CIFAR-10 Batch 1:   Accuracy : 0.5515999794006348 \n",
      " Loss : 0.3569656312465668 \n",
      "Epoch 25, CIFAR-10 Batch 1:   Accuracy : 0.5541999936103821 \n",
      " Loss : 0.31354060769081116 \n",
      "Epoch 26, CIFAR-10 Batch 1:   Accuracy : 0.5608000159263611 \n",
      " Loss : 0.2816508412361145 \n",
      "Epoch 27, CIFAR-10 Batch 1:   Accuracy : 0.5460000038146973 \n",
      " Loss : 0.29519128799438477 \n",
      "Epoch 28, CIFAR-10 Batch 1:   Accuracy : 0.5479999780654907 \n",
      " Loss : 0.24968764185905457 \n",
      "Epoch 29, CIFAR-10 Batch 1:   Accuracy : 0.5432000160217285 \n",
      " Loss : 0.25836315751075745 \n",
      "Epoch 30, CIFAR-10 Batch 1:   Accuracy : 0.5353999733924866 \n",
      " Loss : 0.2369524985551834 \n"
     ]
    }
   ],
   "source": [
    "\"\"\"\n",
    "DON'T MODIFY ANYTHING IN THIS CELL\n",
    "\"\"\"\n",
    "print('Checking the Training on a Single Batch...')\n",
    "with tf.Session() as sess:\n",
    "    # Initializing the variables\n",
    "    sess.run(tf.global_variables_initializer())\n",
    "    \n",
    "    # Training cycle\n",
    "    for epoch in range(epochs):\n",
    "        batch_i = 1\n",
    "        for batch_features, batch_labels in helper.load_preprocess_training_batch(batch_i, batch_size):\n",
    "            train_neural_network(sess, optimizer, keep_probability, batch_features, batch_labels)\n",
    "        print('Epoch {:>2}, CIFAR-10 Batch {}:  '.format(epoch + 1, batch_i), end='')\n",
    "        print_stats(sess, batch_features, batch_labels, cost, accuracy)"
   ]
  },
  {
   "cell_type": "markdown",
   "metadata": {},
   "source": [
    "### Fully Train the Model\n",
    "Now that you got a good accuracy with a single CIFAR-10 batch, try it with all five batches."
   ]
  },
  {
   "cell_type": "code",
   "execution_count": 30,
   "metadata": {
    "scrolled": false
   },
   "outputs": [
    {
     "name": "stdout",
     "output_type": "stream",
     "text": [
      "Training...\n",
      "Epoch  1, CIFAR-10 Batch 1:   Accuracy : 0.22679999470710754 \n",
      " Loss : 2.136519193649292 \n",
      "Epoch  1, CIFAR-10 Batch 2:   Accuracy : 0.3296000063419342 \n",
      " Loss : 1.9306442737579346 \n",
      "Epoch  1, CIFAR-10 Batch 3:   Accuracy : 0.35359999537467957 \n",
      " Loss : 1.6312453746795654 \n",
      "Epoch  1, CIFAR-10 Batch 4:   Accuracy : 0.41339999437332153 \n",
      " Loss : 1.5550167560577393 \n",
      "Epoch  1, CIFAR-10 Batch 5:   Accuracy : 0.4392000138759613 \n",
      " Loss : 1.6891177892684937 \n",
      "Epoch  2, CIFAR-10 Batch 1:   Accuracy : 0.45820000767707825 \n",
      " Loss : 1.645190954208374 \n",
      "Epoch  2, CIFAR-10 Batch 2:   Accuracy : 0.4731999933719635 \n",
      " Loss : 1.4119493961334229 \n",
      "Epoch  2, CIFAR-10 Batch 3:   Accuracy : 0.4564000070095062 \n",
      " Loss : 1.2240850925445557 \n",
      "Epoch  2, CIFAR-10 Batch 4:   Accuracy : 0.5031999945640564 \n",
      " Loss : 1.2278426885604858 \n",
      "Epoch  2, CIFAR-10 Batch 5:   Accuracy : 0.4864000082015991 \n",
      " Loss : 1.4467260837554932 \n",
      "Epoch  3, CIFAR-10 Batch 1:   Accuracy : 0.5242000222206116 \n",
      " Loss : 1.396484136581421 \n",
      "Epoch  3, CIFAR-10 Batch 2:   Accuracy : 0.5145999789237976 \n",
      " Loss : 1.2012608051300049 \n",
      "Epoch  3, CIFAR-10 Batch 3:   Accuracy : 0.5103999972343445 \n",
      " Loss : 1.0314462184906006 \n",
      "Epoch  3, CIFAR-10 Batch 4:   Accuracy : 0.545199990272522 \n",
      " Loss : 1.0558030605316162 \n",
      "Epoch  3, CIFAR-10 Batch 5:   Accuracy : 0.5343999862670898 \n",
      " Loss : 1.2547380924224854 \n",
      "Epoch  4, CIFAR-10 Batch 1:   Accuracy : 0.555400013923645 \n",
      " Loss : 1.2296947240829468 \n",
      "Epoch  4, CIFAR-10 Batch 2:   Accuracy : 0.5400000214576721 \n",
      " Loss : 1.08637273311615 \n",
      "Epoch  4, CIFAR-10 Batch 3:   Accuracy : 0.5216000080108643 \n",
      " Loss : 0.9368346333503723 \n",
      "Epoch  4, CIFAR-10 Batch 4:   Accuracy : 0.5546000003814697 \n",
      " Loss : 0.9261192083358765 \n",
      "Epoch  4, CIFAR-10 Batch 5:   Accuracy : 0.5651999711990356 \n",
      " Loss : 1.088813066482544 \n",
      "Epoch  5, CIFAR-10 Batch 1:   Accuracy : 0.5698000192642212 \n",
      " Loss : 1.1312824487686157 \n",
      "Epoch  5, CIFAR-10 Batch 2:   Accuracy : 0.5662000179290771 \n",
      " Loss : 0.9617107510566711 \n",
      "Epoch  5, CIFAR-10 Batch 3:   Accuracy : 0.5383999943733215 \n",
      " Loss : 0.8769994974136353 \n",
      "Epoch  5, CIFAR-10 Batch 4:   Accuracy : 0.5809999704360962 \n",
      " Loss : 0.8399162292480469 \n",
      "Epoch  5, CIFAR-10 Batch 5:   Accuracy : 0.5676000118255615 \n",
      " Loss : 0.9975872039794922 \n",
      "Epoch  6, CIFAR-10 Batch 1:   Accuracy : 0.5888000130653381 \n",
      " Loss : 1.0665521621704102 \n",
      "Epoch  6, CIFAR-10 Batch 2:   Accuracy : 0.5771999955177307 \n",
      " Loss : 0.894829273223877 \n",
      "Epoch  6, CIFAR-10 Batch 3:   Accuracy : 0.5799999833106995 \n",
      " Loss : 0.7027297019958496 \n",
      "Epoch  6, CIFAR-10 Batch 4:   Accuracy : 0.5899999737739563 \n",
      " Loss : 0.7389475703239441 \n",
      "Epoch  6, CIFAR-10 Batch 5:   Accuracy : 0.5953999757766724 \n",
      " Loss : 0.8513221740722656 \n",
      "Epoch  7, CIFAR-10 Batch 1:   Accuracy : 0.5956000089645386 \n",
      " Loss : 1.0344516038894653 \n",
      "Epoch  7, CIFAR-10 Batch 2:   Accuracy : 0.5982000231742859 \n",
      " Loss : 0.8001848459243774 \n",
      "Epoch  7, CIFAR-10 Batch 3:   Accuracy : 0.6000000238418579 \n",
      " Loss : 0.6392043828964233 \n",
      "Epoch  7, CIFAR-10 Batch 4:   Accuracy : 0.5956000089645386 \n",
      " Loss : 0.6819148063659668 \n",
      "Epoch  7, CIFAR-10 Batch 5:   Accuracy : 0.6029999852180481 \n",
      " Loss : 0.7514383792877197 \n",
      "Epoch  8, CIFAR-10 Batch 1:   Accuracy : 0.6154000163078308 \n",
      " Loss : 0.951768696308136 \n",
      "Epoch  8, CIFAR-10 Batch 2:   Accuracy : 0.6047999858856201 \n",
      " Loss : 0.7530438303947449 \n",
      "Epoch  8, CIFAR-10 Batch 3:   Accuracy : 0.6039999723434448 \n",
      " Loss : 0.5618575215339661 \n",
      "Epoch  8, CIFAR-10 Batch 4:   Accuracy : 0.6096000075340271 \n",
      " Loss : 0.6046628355979919 \n",
      "Epoch  8, CIFAR-10 Batch 5:   Accuracy : 0.6101999878883362 \n",
      " Loss : 0.6781772375106812 \n",
      "Epoch  9, CIFAR-10 Batch 1:   Accuracy : 0.6251999735832214 \n",
      " Loss : 0.8453235626220703 \n",
      "Epoch  9, CIFAR-10 Batch 2:   Accuracy : 0.6114000082015991 \n",
      " Loss : 0.6701864004135132 \n",
      "Epoch  9, CIFAR-10 Batch 3:   Accuracy : 0.6173999905586243 \n",
      " Loss : 0.492300420999527 \n",
      "Epoch  9, CIFAR-10 Batch 4:   Accuracy : 0.6155999898910522 \n",
      " Loss : 0.5491268634796143 \n",
      "Epoch  9, CIFAR-10 Batch 5:   Accuracy : 0.6241999864578247 \n",
      " Loss : 0.6121012568473816 \n",
      "Epoch 10, CIFAR-10 Batch 1:   Accuracy : 0.6291999816894531 \n",
      " Loss : 0.8235170245170593 \n",
      "Epoch 10, CIFAR-10 Batch 2:   Accuracy : 0.6308000087738037 \n",
      " Loss : 0.57875657081604 \n",
      "Epoch 10, CIFAR-10 Batch 3:   Accuracy : 0.6277999877929688 \n",
      " Loss : 0.4251365661621094 \n",
      "Epoch 10, CIFAR-10 Batch 4:   Accuracy : 0.6227999925613403 \n",
      " Loss : 0.476130872964859 \n",
      "Epoch 10, CIFAR-10 Batch 5:   Accuracy : 0.6223999857902527 \n",
      " Loss : 0.5473922491073608 \n",
      "Epoch 11, CIFAR-10 Batch 1:   Accuracy : 0.631600022315979 \n",
      " Loss : 0.7679620385169983 \n",
      "Epoch 11, CIFAR-10 Batch 2:   Accuracy : 0.6277999877929688 \n",
      " Loss : 0.5436903238296509 \n",
      "Epoch 11, CIFAR-10 Batch 3:   Accuracy : 0.6353999972343445 \n",
      " Loss : 0.3791654407978058 \n",
      "Epoch 11, CIFAR-10 Batch 4:   Accuracy : 0.6299999952316284 \n",
      " Loss : 0.40792393684387207 \n",
      "Epoch 11, CIFAR-10 Batch 5:   Accuracy : 0.6263999938964844 \n",
      " Loss : 0.4689845144748688 \n",
      "Epoch 12, CIFAR-10 Batch 1:   Accuracy : 0.6403999924659729 \n",
      " Loss : 0.678096354007721 \n",
      "Epoch 12, CIFAR-10 Batch 2:   Accuracy : 0.6358000040054321 \n",
      " Loss : 0.4751504063606262 \n",
      "Epoch 12, CIFAR-10 Batch 3:   Accuracy : 0.6290000081062317 \n",
      " Loss : 0.37956491112709045 \n",
      "Epoch 12, CIFAR-10 Batch 4:   Accuracy : 0.6388000249862671 \n",
      " Loss : 0.39700713753700256 \n",
      "Epoch 12, CIFAR-10 Batch 5:   Accuracy : 0.6362000107765198 \n",
      " Loss : 0.43795061111450195 \n",
      "Epoch 13, CIFAR-10 Batch 1:   Accuracy : 0.6460000276565552 \n",
      " Loss : 0.6551052331924438 \n",
      "Epoch 13, CIFAR-10 Batch 2:   Accuracy : 0.6470000147819519 \n",
      " Loss : 0.3857860565185547 \n",
      "Epoch 13, CIFAR-10 Batch 3:   Accuracy : 0.6425999999046326 \n",
      " Loss : 0.30969101190567017 \n",
      "Epoch 13, CIFAR-10 Batch 4:   Accuracy : 0.6407999992370605 \n",
      " Loss : 0.3500369191169739 \n",
      "Epoch 13, CIFAR-10 Batch 5:   Accuracy : 0.6359999775886536 \n",
      " Loss : 0.3890630900859833 \n",
      "Epoch 14, CIFAR-10 Batch 1:   Accuracy : 0.651199996471405 \n",
      " Loss : 0.5839076638221741 \n",
      "Epoch 14, CIFAR-10 Batch 2:   Accuracy : 0.6452000141143799 \n",
      " Loss : 0.350766658782959 \n",
      "Epoch 14, CIFAR-10 Batch 3:   Accuracy : 0.6456000208854675 \n",
      " Loss : 0.27892446517944336 \n",
      "Epoch 14, CIFAR-10 Batch 4:   Accuracy : 0.645799994468689 \n",
      " Loss : 0.325923353433609 \n",
      "Epoch 14, CIFAR-10 Batch 5:   Accuracy : 0.625 \n",
      " Loss : 0.35882681608200073 \n",
      "Epoch 15, CIFAR-10 Batch 1:   Accuracy : 0.6444000005722046 \n",
      " Loss : 0.5542939901351929 \n",
      "Epoch 15, CIFAR-10 Batch 2:   Accuracy : 0.6462000012397766 \n",
      " Loss : 0.3261395990848541 \n",
      "Epoch 15, CIFAR-10 Batch 3:   Accuracy : 0.645799994468689 \n",
      " Loss : 0.25649088621139526 \n",
      "Epoch 15, CIFAR-10 Batch 4:   Accuracy : 0.6406000256538391 \n",
      " Loss : 0.29347333312034607 \n",
      "Epoch 15, CIFAR-10 Batch 5:   Accuracy : 0.6420000195503235 \n",
      " Loss : 0.3186870515346527 \n",
      "Epoch 16, CIFAR-10 Batch 1:   Accuracy : 0.6425999999046326 \n",
      " Loss : 0.507138729095459 \n",
      "Epoch 16, CIFAR-10 Batch 2:   Accuracy : 0.6425999999046326 \n",
      " Loss : 0.3255196213722229 \n",
      "Epoch 16, CIFAR-10 Batch 3:   Accuracy : 0.6470000147819519 \n",
      " Loss : 0.24658545851707458 \n",
      "Epoch 16, CIFAR-10 Batch 4:   Accuracy : 0.6535999774932861 \n",
      " Loss : 0.2831500470638275 \n",
      "Epoch 16, CIFAR-10 Batch 5:   Accuracy : 0.6478000283241272 \n",
      " Loss : 0.26342907547950745 \n",
      "Epoch 17, CIFAR-10 Batch 1:   Accuracy : 0.6448000073432922 \n",
      " Loss : 0.4673995077610016 \n",
      "Epoch 17, CIFAR-10 Batch 2:   Accuracy : 0.6402000188827515 \n",
      " Loss : 0.28378891944885254 \n",
      "Epoch 17, CIFAR-10 Batch 3:   Accuracy : 0.645799994468689 \n",
      " Loss : 0.2217218428850174 \n",
      "Epoch 17, CIFAR-10 Batch 4:   Accuracy : 0.6557999849319458 \n",
      " Loss : 0.23899754881858826 \n",
      "Epoch 17, CIFAR-10 Batch 5:   Accuracy : 0.6496000289916992 \n",
      " Loss : 0.2588224709033966 \n",
      "Epoch 18, CIFAR-10 Batch 1:   Accuracy : 0.642799973487854 \n",
      " Loss : 0.42078810930252075 \n",
      "Epoch 18, CIFAR-10 Batch 2:   Accuracy : 0.6499999761581421 \n",
      " Loss : 0.24847860634326935 \n",
      "Epoch 18, CIFAR-10 Batch 3:   Accuracy : 0.6358000040054321 \n",
      " Loss : 0.19804804027080536 \n",
      "Epoch 18, CIFAR-10 Batch 4:   Accuracy : 0.6585999727249146 \n",
      " Loss : 0.20009243488311768 \n",
      "Epoch 18, CIFAR-10 Batch 5:   Accuracy : 0.6574000120162964 \n",
      " Loss : 0.2173326015472412 \n",
      "Epoch 19, CIFAR-10 Batch 1:   Accuracy : 0.6467999815940857 \n",
      " Loss : 0.360965371131897 \n",
      "Epoch 19, CIFAR-10 Batch 2:   Accuracy : 0.6496000289916992 \n",
      " Loss : 0.21648547053337097 \n",
      "Epoch 19, CIFAR-10 Batch 3:   Accuracy : 0.652999997138977 \n",
      " Loss : 0.1677389144897461 \n",
      "Epoch 19, CIFAR-10 Batch 4:   Accuracy : 0.6538000106811523 \n",
      " Loss : 0.18217654526233673 \n",
      "Epoch 19, CIFAR-10 Batch 5:   Accuracy : 0.6547999978065491 \n",
      " Loss : 0.19968281686306 \n",
      "Epoch 20, CIFAR-10 Batch 1:   Accuracy : 0.6520000100135803 \n",
      " Loss : 0.3251294493675232 \n",
      "Epoch 20, CIFAR-10 Batch 2:   Accuracy : 0.6561999917030334 \n",
      " Loss : 0.1901496946811676 \n",
      "Epoch 20, CIFAR-10 Batch 3:   Accuracy : 0.6589999794960022 \n",
      " Loss : 0.1492181122303009 \n",
      "Epoch 20, CIFAR-10 Batch 4:   Accuracy : 0.6516000032424927 \n",
      " Loss : 0.168740913271904 \n",
      "Epoch 20, CIFAR-10 Batch 5:   Accuracy : 0.6539999842643738 \n",
      " Loss : 0.1824798434972763 \n",
      "Epoch 21, CIFAR-10 Batch 1:   Accuracy : 0.6389999985694885 \n",
      " Loss : 0.3107836842536926 \n",
      "Epoch 21, CIFAR-10 Batch 2:   Accuracy : 0.6607999801635742 \n",
      " Loss : 0.15275689959526062 \n",
      "Epoch 21, CIFAR-10 Batch 3:   Accuracy : 0.6579999923706055 \n",
      " Loss : 0.13701316714286804 \n",
      "Epoch 21, CIFAR-10 Batch 4:   Accuracy : 0.6448000073432922 \n",
      " Loss : 0.16087289154529572 \n",
      "Epoch 21, CIFAR-10 Batch 5:   Accuracy : 0.6567999720573425 \n",
      " Loss : 0.15855912864208221 \n",
      "Epoch 22, CIFAR-10 Batch 1:   Accuracy : 0.6359999775886536 \n",
      " Loss : 0.26970386505126953 \n",
      "Epoch 22, CIFAR-10 Batch 2:   Accuracy : 0.6660000085830688 \n",
      " Loss : 0.16854818165302277 \n",
      "Epoch 22, CIFAR-10 Batch 3:   Accuracy : 0.6585999727249146 \n",
      " Loss : 0.12753382325172424 \n",
      "Epoch 22, CIFAR-10 Batch 4:   Accuracy : 0.6633999943733215 \n",
      " Loss : 0.15366491675376892 \n",
      "Epoch 22, CIFAR-10 Batch 5:   Accuracy : 0.6628000140190125 \n",
      " Loss : 0.15904614329338074 \n",
      "Epoch 23, CIFAR-10 Batch 1:   Accuracy : 0.6398000121116638 \n",
      " Loss : 0.23281605541706085 \n",
      "Epoch 23, CIFAR-10 Batch 2:   Accuracy : 0.6643999814987183 \n",
      " Loss : 0.1591142863035202 \n",
      "Epoch 23, CIFAR-10 Batch 3:   Accuracy : 0.6556000113487244 \n",
      " Loss : 0.11277780681848526 \n",
      "Epoch 23, CIFAR-10 Batch 4:   Accuracy : 0.6579999923706055 \n",
      " Loss : 0.1502346694469452 \n",
      "Epoch 23, CIFAR-10 Batch 5:   Accuracy : 0.6556000113487244 \n",
      " Loss : 0.14549019932746887 \n",
      "Epoch 24, CIFAR-10 Batch 1:   Accuracy : 0.6416000127792358 \n",
      " Loss : 0.20776672661304474 \n",
      "Epoch 24, CIFAR-10 Batch 2:   Accuracy : 0.6692000031471252 \n",
      " Loss : 0.13224934041500092 \n",
      "Epoch 24, CIFAR-10 Batch 3:   Accuracy : 0.642799973487854 \n",
      " Loss : 0.10462787002325058 \n",
      "Epoch 24, CIFAR-10 Batch 4:   Accuracy : 0.657800018787384 \n",
      " Loss : 0.10963161289691925 \n",
      "Epoch 24, CIFAR-10 Batch 5:   Accuracy : 0.6462000012397766 \n",
      " Loss : 0.13235288858413696 \n",
      "Epoch 25, CIFAR-10 Batch 1:   Accuracy : 0.649399995803833 \n",
      " Loss : 0.17338892817497253 \n",
      "Epoch 25, CIFAR-10 Batch 2:   Accuracy : 0.6553999781608582 \n",
      " Loss : 0.11929194629192352 \n",
      "Epoch 25, CIFAR-10 Batch 3:   Accuracy : 0.647599995136261 \n",
      " Loss : 0.08833678811788559 \n",
      "Epoch 25, CIFAR-10 Batch 4:   Accuracy : 0.6546000242233276 \n",
      " Loss : 0.0959220677614212 \n",
      "Epoch 25, CIFAR-10 Batch 5:   Accuracy : 0.6431999802589417 \n",
      " Loss : 0.10100822150707245 \n",
      "Epoch 26, CIFAR-10 Batch 1:   Accuracy : 0.645799994468689 \n",
      " Loss : 0.1629258394241333 \n",
      "Epoch 26, CIFAR-10 Batch 2:   Accuracy : 0.6503999829292297 \n",
      " Loss : 0.111158087849617 \n",
      "Epoch 26, CIFAR-10 Batch 3:   Accuracy : 0.6528000235557556 \n",
      " Loss : 0.09236042946577072 \n",
      "Epoch 26, CIFAR-10 Batch 4:   Accuracy : 0.6535999774932861 \n",
      " Loss : 0.07917803525924683 \n",
      "Epoch 26, CIFAR-10 Batch 5:   Accuracy : 0.6521999835968018 \n",
      " Loss : 0.10665075480937958 \n",
      "Epoch 27, CIFAR-10 Batch 1:   Accuracy : 0.6388000249862671 \n",
      " Loss : 0.16012373566627502 \n",
      "Epoch 27, CIFAR-10 Batch 2:   Accuracy : 0.6402000188827515 \n",
      " Loss : 0.13407622277736664 \n",
      "Epoch 27, CIFAR-10 Batch 3:   Accuracy : 0.650600016117096 \n",
      " Loss : 0.10435283184051514 \n",
      "Epoch 27, CIFAR-10 Batch 4:   Accuracy : 0.650600016117096 \n",
      " Loss : 0.09870737791061401 \n",
      "Epoch 27, CIFAR-10 Batch 5:   Accuracy : 0.6403999924659729 \n",
      " Loss : 0.09673821926116943 \n",
      "Epoch 28, CIFAR-10 Batch 1:   Accuracy : 0.6556000113487244 \n",
      " Loss : 0.1384781301021576 \n",
      "Epoch 28, CIFAR-10 Batch 2:   Accuracy : 0.6281999945640564 \n",
      " Loss : 0.12073445320129395 \n",
      "Epoch 28, CIFAR-10 Batch 3:   Accuracy : 0.65420001745224 \n",
      " Loss : 0.08305893838405609 \n",
      "Epoch 28, CIFAR-10 Batch 4:   Accuracy : 0.6492000222206116 \n",
      " Loss : 0.07802112400531769 \n",
      "Epoch 28, CIFAR-10 Batch 5:   Accuracy : 0.6266000270843506 \n",
      " Loss : 0.11634849011898041 \n",
      "Epoch 29, CIFAR-10 Batch 1:   Accuracy : 0.645799994468689 \n",
      " Loss : 0.1708892583847046 \n",
      "Epoch 29, CIFAR-10 Batch 2:   Accuracy : 0.6317999958992004 \n",
      " Loss : 0.09006175398826599 \n",
      "Epoch 29, CIFAR-10 Batch 3:   Accuracy : 0.6442000269889832 \n",
      " Loss : 0.07874773442745209 \n",
      "Epoch 29, CIFAR-10 Batch 4:   Accuracy : 0.6538000106811523 \n",
      " Loss : 0.0857020765542984 \n",
      "Epoch 29, CIFAR-10 Batch 5:   Accuracy : 0.6331999897956848 \n",
      " Loss : 0.11157111078500748 \n",
      "Epoch 30, CIFAR-10 Batch 1:   Accuracy : 0.6528000235557556 \n",
      " Loss : 0.1416725367307663 \n",
      "Epoch 30, CIFAR-10 Batch 2:   Accuracy : 0.6402000188827515 \n",
      " Loss : 0.08150263875722885 \n",
      "Epoch 30, CIFAR-10 Batch 3:   Accuracy : 0.6531999707221985 \n",
      " Loss : 0.07418346405029297 \n",
      "Epoch 30, CIFAR-10 Batch 4:   Accuracy : 0.6507999897003174 \n",
      " Loss : 0.07474836707115173 \n",
      "Epoch 30, CIFAR-10 Batch 5:   Accuracy : 0.6359999775886536 \n",
      " Loss : 0.08097420632839203 \n"
     ]
    }
   ],
   "source": [
    "\"\"\"\n",
    "DON'T MODIFY ANYTHING IN THIS CELL\n",
    "\"\"\"\n",
    "save_model_path = './image_classification'\n",
    "\n",
    "print('Training...')\n",
    "with tf.Session() as sess:\n",
    "    # Initializing the variables\n",
    "    sess.run(tf.global_variables_initializer())\n",
    "    \n",
    "    # Training cycle\n",
    "    for epoch in range(epochs):\n",
    "        # Loop over all batches\n",
    "        n_batches = 5\n",
    "        for batch_i in range(1, n_batches + 1):\n",
    "            for batch_features, batch_labels in helper.load_preprocess_training_batch(batch_i, batch_size):\n",
    "                train_neural_network(sess, optimizer, keep_probability, batch_features, batch_labels)\n",
    "            print('Epoch {:>2}, CIFAR-10 Batch {}:  '.format(epoch + 1, batch_i), end='')\n",
    "            print_stats(sess, batch_features, batch_labels, cost, accuracy)\n",
    "            \n",
    "    # Save Model\n",
    "    saver = tf.train.Saver()\n",
    "    save_path = saver.save(sess, save_model_path)"
   ]
  },
  {
   "cell_type": "markdown",
   "metadata": {},
   "source": [
    "# Checkpoint\n",
    "The model has been saved to disk.\n",
    "## Test Model\n",
    "Test your model against the test dataset.  This will be your final accuracy. You should have an accuracy greater than 50%. If you don't, keep tweaking the model architecture and parameters."
   ]
  },
  {
   "cell_type": "code",
   "execution_count": 31,
   "metadata": {},
   "outputs": [
    {
     "name": "stdout",
     "output_type": "stream",
     "text": [
      "INFO:tensorflow:Restoring parameters from ./image_classification\n",
      "Testing Accuracy: 0.648046875\n",
      "\n"
     ]
    },
    {
     "data": {
      "image/png": "[encoded data removed]",
      "text/plain": [
       "<matplotlib.figure.Figure at 0x11fc390f0>"
      ]
     },
     "metadata": {
      "image/png": {
       "height": 319,
       "width": 355
      }
     },
     "output_type": "display_data"
    }
   ],
   "source": [
    "\"\"\"\n",
    "DON'T MODIFY ANYTHING IN THIS CELL\n",
    "\"\"\"\n",
    "%matplotlib inline\n",
    "%config InlineBackend.figure_format = 'retina'\n",
    "\n",
    "import tensorflow as tf\n",
    "import pickle\n",
    "import helper\n",
    "import random\n",
    "\n",
    "# Set batch size if not already set\n",
    "try:\n",
    "    if batch_size:\n",
    "        pass\n",
    "except NameError:\n",
    "    batch_size = 64\n",
    "\n",
    "save_model_path = './image_classification'\n",
    "n_samples = 4\n",
    "top_n_predictions = 3\n",
    "\n",
    "def test_model():\n",
    "    \"\"\"\n",
    "    Test the saved model against the test dataset\n",
    "    \"\"\"\n",
    "\n",
    "    test_features, test_labels = pickle.load(open('preprocess_training.p', mode='rb'))\n",
    "    loaded_graph = tf.Graph()\n",
    "\n",
    "    with tf.Session(graph=loaded_graph) as sess:\n",
    "        # Load model\n",
    "        loader = tf.train.import_meta_graph(save_model_path + '.meta')\n",
    "        loader.restore(sess, save_model_path)\n",
    "\n",
    "        # Get Tensors from loaded model\n",
    "        loaded_x = loaded_graph.get_tensor_by_name('x:0')\n",
    "        loaded_y = loaded_graph.get_tensor_by_name('y:0')\n",
    "        loaded_keep_prob = loaded_graph.get_tensor_by_name('keep_prob:0')\n",
    "        loaded_logits = loaded_graph.get_tensor_by_name('logits:0')\n",
    "        loaded_acc = loaded_graph.get_tensor_by_name('accuracy:0')\n",
    "        \n",
    "        # Get accuracy in batches for memory limitations\n",
    "        test_batch_acc_total = 0\n",
    "        test_batch_count = 0\n",
    "        \n",
    "        for train_feature_batch, train_label_batch in helper.batch_features_labels(test_features, test_labels, batch_size):\n",
    "            test_batch_acc_total += sess.run(\n",
    "                loaded_acc,\n",
    "                feed_dict={loaded_x: train_feature_batch, loaded_y: train_label_batch, loaded_keep_prob: 1.0})\n",
    "            test_batch_count += 1\n",
    "\n",
    "        print('Testing Accuracy: {}\\n'.format(test_batch_acc_total/test_batch_count))\n",
    "\n",
    "        # Print Random Samples\n",
    "        random_test_features, random_test_labels = tuple(zip(*random.sample(list(zip(test_features, test_labels)), n_samples)))\n",
    "        random_test_predictions = sess.run(\n",
    "            tf.nn.top_k(tf.nn.softmax(loaded_logits), top_n_predictions),\n",
    "            feed_dict={loaded_x: random_test_features, loaded_y: random_test_labels, loaded_keep_prob: 1.0})\n",
    "        helper.display_image_predictions(random_test_features, random_test_labels, random_test_predictions)\n",
    "\n",
    "\n",
    "test_model()"
   ]
  },
  {
   "cell_type": "markdown",
   "metadata": {},
   "source": [
    "## Why 50-70% Accuracy?\n",
    "You might be wondering why you can't get an accuracy any higher. First things first, 50% isn't bad for a simple CNN.  Pure guessing would get you 10% accuracy. However, you might notice people are getting scores [well above 70%](http://rodrigob.github.io/are_we_there_yet/build/classification_datasets_results.html#43494641522d3130).  That's because we haven't taught you all there is to know about neural networks. We still need to cover a few more techniques.\n",
    "## Submitting This Project\n",
    "When submitting this project, make sure to run all the cells before saving the notebook.  Save the notebook file as \"dlnd_image_classification.ipynb\" and save it as a HTML file under \"File\" -> \"Download as\".  Include the \"helper.py\" and \"problem_unittests.py\" files in your submission."
   ]
  },
  {
   "cell_type": "code",
   "execution_count": null,
   "metadata": {
    "collapsed": true
   },
   "outputs": [],
   "source": []
  }
 ],
 "metadata": {
  "kernelspec": {
   "display_name": "Python [conda env:deep_nabin]",
   "language": "python",
   "name": "conda-env-deep_nabin-py"
  },
  "language_info": {
   "codemirror_mode": {
    "name": "ipython",
    "version": 3
   },
   "file_extension": ".py",
   "mimetype": "text/x-python",
   "name": "python",
   "nbconvert_exporter": "python",
   "pygments_lexer": "ipython3",
   "version": "3.6.2"
  }
 },
 "nbformat": 4,
 "nbformat_minor": 1
}
